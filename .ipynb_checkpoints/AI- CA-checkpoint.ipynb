{
 "cells": [
  {
   "cell_type": "code",
   "execution_count": 1,
   "id": "b9399c71",
   "metadata": {},
   "outputs": [],
   "source": [
    "#due to uplaoding to github issues i decided to make a new csv to use and have that also uploaded to github\n",
    "#this narrowed the data down to one currency\n",
    "#globalFoodData = globalFoodData.loc[(globalFoodData['cur_name'] == 'XOF'),\n",
    "#               ['country_id','country_name','local_id','local_name','mkt_id','mkt_name','cm_id','cm_name','cur_id','cur_name', 'mkt_type_id',\n",
    "#                'mkt_type','measure_id','measure_type', 'mp_price', 'mp_year', 'mp_month', 'mp_commoditysource']]\n",
    "\n",
    "#globalFoodData.to_csv('global_food_data.csv')\n",
    "#globalFoodData"
   ]
  },
  {
   "cell_type": "code",
   "execution_count": 2,
   "id": "03f48ddc",
   "metadata": {},
   "outputs": [],
   "source": [
    "import os\n",
    "import pandas as pd\n",
    "import numpy as np\n",
    "\n",
    "from pylab import rcParams\n",
    "import statsmodels.api as sm\n",
    "import matplotlib.pyplot as plt\n",
    "import matplotlib.dates as mdates\n",
    "import seaborn as sns\n",
    "\n",
    "from sklearn.preprocessing import LabelEncoder\n",
    "from sklearn.preprocessing import OneHotEncoder\n",
    "from sklearn.compose import ColumnTransformer\n",
    "from sklearn.linear_model import LinearRegression\n",
    "\n",
    "#globalFoodData = pd.read_csv('global_food_prices.csv', low_memory=False)"
   ]
  },
  {
   "cell_type": "markdown",
   "id": "e087535d",
   "metadata": {},
   "source": [
    "### Any data cleaning that you perform to handle missing values, errors, and outliers"
   ]
  },
  {
   "cell_type": "code",
   "execution_count": 3,
   "id": "84734af5",
   "metadata": {
    "scrolled": false
   },
   "outputs": [
    {
     "data": {
      "text/html": [
       "<div>\n",
       "<style scoped>\n",
       "    .dataframe tbody tr th:only-of-type {\n",
       "        vertical-align: middle;\n",
       "    }\n",
       "\n",
       "    .dataframe tbody tr th {\n",
       "        vertical-align: top;\n",
       "    }\n",
       "\n",
       "    .dataframe thead th {\n",
       "        text-align: right;\n",
       "    }\n",
       "</style>\n",
       "<table border=\"1\" class=\"dataframe\">\n",
       "  <thead>\n",
       "    <tr style=\"text-align: right;\">\n",
       "      <th></th>\n",
       "      <th>Unnamed: 0</th>\n",
       "      <th>country_id</th>\n",
       "      <th>country_name</th>\n",
       "      <th>local_id</th>\n",
       "      <th>local_name</th>\n",
       "      <th>mkt_id</th>\n",
       "      <th>mkt_name</th>\n",
       "      <th>cm_id</th>\n",
       "      <th>cm_name</th>\n",
       "      <th>cur_id</th>\n",
       "      <th>cur_name</th>\n",
       "      <th>mkt_type_id</th>\n",
       "      <th>mkt_type</th>\n",
       "      <th>measure_id</th>\n",
       "      <th>measure_type</th>\n",
       "      <th>mp_price</th>\n",
       "      <th>mp_year</th>\n",
       "      <th>mp_month</th>\n",
       "      <th>mp_commoditysource</th>\n",
       "    </tr>\n",
       "  </thead>\n",
       "  <tbody>\n",
       "    <tr>\n",
       "      <th>0</th>\n",
       "      <td>185502</td>\n",
       "      <td>29.0</td>\n",
       "      <td>Benin</td>\n",
       "      <td>609</td>\n",
       "      <td>Alibori</td>\n",
       "      <td>1044</td>\n",
       "      <td>Malanville (CBM)</td>\n",
       "      <td>51</td>\n",
       "      <td>Maize - Wholesale</td>\n",
       "      <td>0.0</td>\n",
       "      <td>XOF</td>\n",
       "      <td>14</td>\n",
       "      <td>Wholesale</td>\n",
       "      <td>5</td>\n",
       "      <td>KG</td>\n",
       "      <td>145.0</td>\n",
       "      <td>2002</td>\n",
       "      <td>1</td>\n",
       "      <td>NaN</td>\n",
       "    </tr>\n",
       "    <tr>\n",
       "      <th>1</th>\n",
       "      <td>185503</td>\n",
       "      <td>29.0</td>\n",
       "      <td>Benin</td>\n",
       "      <td>609</td>\n",
       "      <td>Alibori</td>\n",
       "      <td>1044</td>\n",
       "      <td>Malanville (CBM)</td>\n",
       "      <td>51</td>\n",
       "      <td>Maize - Wholesale</td>\n",
       "      <td>0.0</td>\n",
       "      <td>XOF</td>\n",
       "      <td>14</td>\n",
       "      <td>Wholesale</td>\n",
       "      <td>5</td>\n",
       "      <td>KG</td>\n",
       "      <td>106.0</td>\n",
       "      <td>2003</td>\n",
       "      <td>1</td>\n",
       "      <td>NaN</td>\n",
       "    </tr>\n",
       "    <tr>\n",
       "      <th>2</th>\n",
       "      <td>185504</td>\n",
       "      <td>29.0</td>\n",
       "      <td>Benin</td>\n",
       "      <td>609</td>\n",
       "      <td>Alibori</td>\n",
       "      <td>1044</td>\n",
       "      <td>Malanville (CBM)</td>\n",
       "      <td>51</td>\n",
       "      <td>Maize - Wholesale</td>\n",
       "      <td>0.0</td>\n",
       "      <td>XOF</td>\n",
       "      <td>14</td>\n",
       "      <td>Wholesale</td>\n",
       "      <td>5</td>\n",
       "      <td>KG</td>\n",
       "      <td>107.5</td>\n",
       "      <td>2003</td>\n",
       "      <td>2</td>\n",
       "      <td>NaN</td>\n",
       "    </tr>\n",
       "    <tr>\n",
       "      <th>3</th>\n",
       "      <td>185505</td>\n",
       "      <td>29.0</td>\n",
       "      <td>Benin</td>\n",
       "      <td>609</td>\n",
       "      <td>Alibori</td>\n",
       "      <td>1044</td>\n",
       "      <td>Malanville (CBM)</td>\n",
       "      <td>51</td>\n",
       "      <td>Maize - Wholesale</td>\n",
       "      <td>0.0</td>\n",
       "      <td>XOF</td>\n",
       "      <td>14</td>\n",
       "      <td>Wholesale</td>\n",
       "      <td>5</td>\n",
       "      <td>KG</td>\n",
       "      <td>95.0</td>\n",
       "      <td>2003</td>\n",
       "      <td>3</td>\n",
       "      <td>NaN</td>\n",
       "    </tr>\n",
       "    <tr>\n",
       "      <th>4</th>\n",
       "      <td>185506</td>\n",
       "      <td>29.0</td>\n",
       "      <td>Benin</td>\n",
       "      <td>609</td>\n",
       "      <td>Alibori</td>\n",
       "      <td>1044</td>\n",
       "      <td>Malanville (CBM)</td>\n",
       "      <td>51</td>\n",
       "      <td>Maize - Wholesale</td>\n",
       "      <td>0.0</td>\n",
       "      <td>XOF</td>\n",
       "      <td>14</td>\n",
       "      <td>Wholesale</td>\n",
       "      <td>5</td>\n",
       "      <td>KG</td>\n",
       "      <td>95.0</td>\n",
       "      <td>2003</td>\n",
       "      <td>4</td>\n",
       "      <td>NaN</td>\n",
       "    </tr>\n",
       "  </tbody>\n",
       "</table>\n",
       "</div>"
      ],
      "text/plain": [
       "   Unnamed: 0  country_id country_name  local_id local_name  mkt_id  \\\n",
       "0      185502        29.0        Benin       609    Alibori    1044   \n",
       "1      185503        29.0        Benin       609    Alibori    1044   \n",
       "2      185504        29.0        Benin       609    Alibori    1044   \n",
       "3      185505        29.0        Benin       609    Alibori    1044   \n",
       "4      185506        29.0        Benin       609    Alibori    1044   \n",
       "\n",
       "           mkt_name  cm_id            cm_name  cur_id cur_name  mkt_type_id  \\\n",
       "0  Malanville (CBM)     51  Maize - Wholesale     0.0      XOF           14   \n",
       "1  Malanville (CBM)     51  Maize - Wholesale     0.0      XOF           14   \n",
       "2  Malanville (CBM)     51  Maize - Wholesale     0.0      XOF           14   \n",
       "3  Malanville (CBM)     51  Maize - Wholesale     0.0      XOF           14   \n",
       "4  Malanville (CBM)     51  Maize - Wholesale     0.0      XOF           14   \n",
       "\n",
       "    mkt_type  measure_id measure_type  mp_price  mp_year  mp_month  \\\n",
       "0  Wholesale           5           KG     145.0     2002         1   \n",
       "1  Wholesale           5           KG     106.0     2003         1   \n",
       "2  Wholesale           5           KG     107.5     2003         2   \n",
       "3  Wholesale           5           KG      95.0     2003         3   \n",
       "4  Wholesale           5           KG      95.0     2003         4   \n",
       "\n",
       "   mp_commoditysource  \n",
       "0                 NaN  \n",
       "1                 NaN  \n",
       "2                 NaN  \n",
       "3                 NaN  \n",
       "4                 NaN  "
      ]
     },
     "execution_count": 3,
     "metadata": {},
     "output_type": "execute_result"
    }
   ],
   "source": [
    "globalFoodData = pd.read_csv('global_food_data.csv', low_memory=False)\n",
    "globalFoodData.head(5)"
   ]
  },
  {
   "cell_type": "code",
   "execution_count": 4,
   "id": "a8d07aff",
   "metadata": {
    "scrolled": true
   },
   "outputs": [],
   "source": [
    "#because majority of commodity source is NAN i am dropping the column\n",
    "globalFoodData = globalFoodData.drop(['mp_commoditysource'], axis=1)\n",
    "globalFoodData = globalFoodData.drop(['cur_id'], axis=1)\n",
    "globalFoodData = globalFoodData.drop(['Unnamed: 0'], axis=1)\n"
   ]
  },
  {
   "cell_type": "code",
   "execution_count": 5,
   "id": "0c418e3a",
   "metadata": {},
   "outputs": [],
   "source": [
    "globalFoodData.rename(columns={'adm0_id': 'country_id', 'adm0_name': 'country_name', 'adm1_id': 'local_id', 'adm1_name': 'local_name', 'pt_id': 'mkt_type_id', 'pt_name': 'mkt_type', 'um_id': 'measure_id', 'um_name': 'measure_type'}, inplace=True)"
   ]
  },
  {
   "cell_type": "code",
   "execution_count": 6,
   "id": "01f6a2c6",
   "metadata": {
    "scrolled": true
   },
   "outputs": [
    {
     "name": "stdout",
     "output_type": "stream",
     "text": [
      "[2002 2003 2005 2006 2007 2008 2009 2010 2011 2012 2019 2020 2021 2013\n",
      " 2014 2015 2016 2018 2017 2004 1992 1993 1994 1995 1996 1997 1998 1999\n",
      " 2000 2001 1990 1991]\n"
     ]
    }
   ],
   "source": [
    "print(globalFoodData['mp_year'].unique())"
   ]
  },
  {
   "cell_type": "code",
   "execution_count": 7,
   "id": "e7fdb341",
   "metadata": {
    "scrolled": true
   },
   "outputs": [
    {
     "name": "stdout",
     "output_type": "stream",
     "text": [
      "<class 'pandas.core.frame.DataFrame'>\n",
      "RangeIndex: 270646 entries, 0 to 270645\n",
      "Data columns (total 16 columns):\n",
      " #   Column        Non-Null Count   Dtype  \n",
      "---  ------        --------------   -----  \n",
      " 0   country_id    270646 non-null  float64\n",
      " 1   country_name  270646 non-null  object \n",
      " 2   local_id      270646 non-null  int64  \n",
      " 3   local_name    269782 non-null  object \n",
      " 4   mkt_id        270646 non-null  int64  \n",
      " 5   mkt_name      270646 non-null  object \n",
      " 6   cm_id         270646 non-null  int64  \n",
      " 7   cm_name       270646 non-null  object \n",
      " 8   cur_name      270646 non-null  object \n",
      " 9   mkt_type_id   270646 non-null  int64  \n",
      " 10  mkt_type      270646 non-null  object \n",
      " 11  measure_id    270646 non-null  int64  \n",
      " 12  measure_type  270646 non-null  object \n",
      " 13  mp_price      270646 non-null  float64\n",
      " 14  mp_year       270646 non-null  int64  \n",
      " 15  mp_month      270646 non-null  int64  \n",
      "dtypes: float64(2), int64(7), object(7)\n",
      "memory usage: 33.0+ MB\n"
     ]
    }
   ],
   "source": [
    "globalFoodData.info()"
   ]
  },
  {
   "cell_type": "code",
   "execution_count": 8,
   "id": "e509ed81",
   "metadata": {},
   "outputs": [],
   "source": [
    "globalFoodData['mm']=globalFoodData['cur_name']"
   ]
  },
  {
   "cell_type": "code",
   "execution_count": 89,
   "id": "d4c8626a",
   "metadata": {},
   "outputs": [],
   "source": [
    "globalFoodData[\"Date\"] = [  y+ \" \" + x for x,y in list(zip(globalFoodData[\"mp_month\"].astype(str).values, globalFoodData[\"mp_year\"].astype(str).values)) ]\n",
    "#globalFoodData['Date'].apply(lambda x: pd.to_datetime(str(x), format='%Y%m%d'))\n",
    "globalFoodData[\"Date\"] = pd.to_datetime(globalFoodData[\"Date\"])"
   ]
  },
  {
   "cell_type": "code",
   "execution_count": 10,
   "id": "aaff1296",
   "metadata": {
    "scrolled": false
   },
   "outputs": [
    {
     "data": {
      "text/html": [
       "<div>\n",
       "<style scoped>\n",
       "    .dataframe tbody tr th:only-of-type {\n",
       "        vertical-align: middle;\n",
       "    }\n",
       "\n",
       "    .dataframe tbody tr th {\n",
       "        vertical-align: top;\n",
       "    }\n",
       "\n",
       "    .dataframe thead th {\n",
       "        text-align: right;\n",
       "    }\n",
       "</style>\n",
       "<table border=\"1\" class=\"dataframe\">\n",
       "  <thead>\n",
       "    <tr style=\"text-align: right;\">\n",
       "      <th></th>\n",
       "      <th>country_id</th>\n",
       "      <th>local_id</th>\n",
       "      <th>mkt_id</th>\n",
       "      <th>cm_id</th>\n",
       "      <th>mkt_type_id</th>\n",
       "      <th>measure_id</th>\n",
       "      <th>mp_price</th>\n",
       "      <th>mp_year</th>\n",
       "      <th>mp_month</th>\n",
       "    </tr>\n",
       "  </thead>\n",
       "  <tbody>\n",
       "    <tr>\n",
       "      <th>count</th>\n",
       "      <td>270646.000000</td>\n",
       "      <td>270646.000000</td>\n",
       "      <td>270646.000000</td>\n",
       "      <td>270646.000000</td>\n",
       "      <td>270646.000000</td>\n",
       "      <td>270646.000000</td>\n",
       "      <td>270646.000000</td>\n",
       "      <td>270646.000000</td>\n",
       "      <td>270646.000000</td>\n",
       "    </tr>\n",
       "    <tr>\n",
       "      <th>mean</th>\n",
       "      <td>130.345496</td>\n",
       "      <td>9787.424566</td>\n",
       "      <td>1431.369346</td>\n",
       "      <td>147.842425</td>\n",
       "      <td>14.971357</td>\n",
       "      <td>6.695861</td>\n",
       "      <td>1629.586335</td>\n",
       "      <td>2015.221585</td>\n",
       "      <td>6.323223</td>\n",
       "    </tr>\n",
       "    <tr>\n",
       "      <th>std</th>\n",
       "      <td>67.611257</td>\n",
       "      <td>16146.566346</td>\n",
       "      <td>1219.259116</td>\n",
       "      <td>165.828382</td>\n",
       "      <td>0.166800</td>\n",
       "      <td>8.614471</td>\n",
       "      <td>11153.522227</td>\n",
       "      <td>5.784025</td>\n",
       "      <td>3.372247</td>\n",
       "    </tr>\n",
       "    <tr>\n",
       "      <th>min</th>\n",
       "      <td>29.000000</td>\n",
       "      <td>609.000000</td>\n",
       "      <td>124.000000</td>\n",
       "      <td>50.000000</td>\n",
       "      <td>14.000000</td>\n",
       "      <td>5.000000</td>\n",
       "      <td>1.035000</td>\n",
       "      <td>1990.000000</td>\n",
       "      <td>1.000000</td>\n",
       "    </tr>\n",
       "    <tr>\n",
       "      <th>25%</th>\n",
       "      <td>42.000000</td>\n",
       "      <td>1926.000000</td>\n",
       "      <td>553.000000</td>\n",
       "      <td>65.000000</td>\n",
       "      <td>15.000000</td>\n",
       "      <td>5.000000</td>\n",
       "      <td>187.500000</td>\n",
       "      <td>2012.000000</td>\n",
       "      <td>3.000000</td>\n",
       "    </tr>\n",
       "    <tr>\n",
       "      <th>50%</th>\n",
       "      <td>155.000000</td>\n",
       "      <td>1934.000000</td>\n",
       "      <td>878.000000</td>\n",
       "      <td>73.000000</td>\n",
       "      <td>15.000000</td>\n",
       "      <td>5.000000</td>\n",
       "      <td>274.000000</td>\n",
       "      <td>2017.000000</td>\n",
       "      <td>6.000000</td>\n",
       "    </tr>\n",
       "    <tr>\n",
       "      <th>75%</th>\n",
       "      <td>181.000000</td>\n",
       "      <td>2640.000000</td>\n",
       "      <td>2040.000000</td>\n",
       "      <td>120.000000</td>\n",
       "      <td>15.000000</td>\n",
       "      <td>5.000000</td>\n",
       "      <td>450.000000</td>\n",
       "      <td>2020.000000</td>\n",
       "      <td>9.000000</td>\n",
       "    </tr>\n",
       "    <tr>\n",
       "      <th>max</th>\n",
       "      <td>243.000000</td>\n",
       "      <td>47589.000000</td>\n",
       "      <td>5234.000000</td>\n",
       "      <td>877.000000</td>\n",
       "      <td>15.000000</td>\n",
       "      <td>134.000000</td>\n",
       "      <td>474500.000000</td>\n",
       "      <td>2021.000000</td>\n",
       "      <td>12.000000</td>\n",
       "    </tr>\n",
       "  </tbody>\n",
       "</table>\n",
       "</div>"
      ],
      "text/plain": [
       "          country_id       local_id         mkt_id          cm_id  \\\n",
       "count  270646.000000  270646.000000  270646.000000  270646.000000   \n",
       "mean      130.345496    9787.424566    1431.369346     147.842425   \n",
       "std        67.611257   16146.566346    1219.259116     165.828382   \n",
       "min        29.000000     609.000000     124.000000      50.000000   \n",
       "25%        42.000000    1926.000000     553.000000      65.000000   \n",
       "50%       155.000000    1934.000000     878.000000      73.000000   \n",
       "75%       181.000000    2640.000000    2040.000000     120.000000   \n",
       "max       243.000000   47589.000000    5234.000000     877.000000   \n",
       "\n",
       "         mkt_type_id     measure_id       mp_price        mp_year  \\\n",
       "count  270646.000000  270646.000000  270646.000000  270646.000000   \n",
       "mean       14.971357       6.695861    1629.586335    2015.221585   \n",
       "std         0.166800       8.614471   11153.522227       5.784025   \n",
       "min        14.000000       5.000000       1.035000    1990.000000   \n",
       "25%        15.000000       5.000000     187.500000    2012.000000   \n",
       "50%        15.000000       5.000000     274.000000    2017.000000   \n",
       "75%        15.000000       5.000000     450.000000    2020.000000   \n",
       "max        15.000000     134.000000  474500.000000    2021.000000   \n",
       "\n",
       "            mp_month  \n",
       "count  270646.000000  \n",
       "mean        6.323223  \n",
       "std         3.372247  \n",
       "min         1.000000  \n",
       "25%         3.000000  \n",
       "50%         6.000000  \n",
       "75%         9.000000  \n",
       "max        12.000000  "
      ]
     },
     "execution_count": 10,
     "metadata": {},
     "output_type": "execute_result"
    }
   ],
   "source": [
    "globalFoodData.describe()"
   ]
  },
  {
   "cell_type": "code",
   "execution_count": 11,
   "id": "31e02caa",
   "metadata": {
    "scrolled": false
   },
   "outputs": [
    {
     "data": {
      "text/plain": [
       "country_id        0\n",
       "country_name      0\n",
       "local_id          0\n",
       "local_name      864\n",
       "mkt_id            0\n",
       "mkt_name          0\n",
       "cm_id             0\n",
       "cm_name           0\n",
       "cur_name          0\n",
       "mkt_type_id       0\n",
       "mkt_type          0\n",
       "measure_id        0\n",
       "measure_type      0\n",
       "mp_price          0\n",
       "mp_year           0\n",
       "mp_month          0\n",
       "mm                0\n",
       "Date              0\n",
       "dtype: int64"
      ]
     },
     "execution_count": 11,
     "metadata": {},
     "output_type": "execute_result"
    }
   ],
   "source": [
    "globalFoodData.isnull().sum()"
   ]
  },
  {
   "cell_type": "code",
   "execution_count": 12,
   "id": "557d1eae",
   "metadata": {},
   "outputs": [],
   "source": [
    "globalFoodData.drop(globalFoodData[globalFoodData.mp_year < 2004].index, inplace=True)"
   ]
  },
  {
   "cell_type": "code",
   "execution_count": 13,
   "id": "10438501",
   "metadata": {},
   "outputs": [],
   "source": [
    "#changing all null values with unknown for now to avoid dropping the rows\n",
    "globalFoodData = globalFoodData.fillna('Unknown')"
   ]
  },
  {
   "cell_type": "code",
   "execution_count": 14,
   "id": "04633717",
   "metadata": {
    "scrolled": true
   },
   "outputs": [
    {
     "data": {
      "text/plain": [
       "country_id      0\n",
       "country_name    0\n",
       "local_id        0\n",
       "local_name      0\n",
       "mkt_id          0\n",
       "mkt_name        0\n",
       "cm_id           0\n",
       "cm_name         0\n",
       "cur_name        0\n",
       "mkt_type_id     0\n",
       "mkt_type        0\n",
       "measure_id      0\n",
       "measure_type    0\n",
       "mp_price        0\n",
       "mp_year         0\n",
       "mp_month        0\n",
       "mm              0\n",
       "Date            0\n",
       "dtype: int64"
      ]
     },
     "execution_count": 14,
     "metadata": {},
     "output_type": "execute_result"
    }
   ],
   "source": [
    "globalFoodData.isnull().sum()"
   ]
  },
  {
   "cell_type": "code",
   "execution_count": 15,
   "id": "e06b8c18",
   "metadata": {
    "scrolled": true
   },
   "outputs": [
    {
     "data": {
      "text/plain": [
       "XOF    258560\n",
       "Name: cur_name, dtype: int64"
      ]
     },
     "execution_count": 15,
     "metadata": {},
     "output_type": "execute_result"
    }
   ],
   "source": [
    "#globalFoodData_cur = globalFoodData.groupby(by='cur_name').agg('count').sort_values(ascending=False)\n",
    "#globalFoodData_cur.head(20)\n",
    "\n",
    "globalFoodData['cur_name'].value_counts(sort=True).head(10)"
   ]
  },
  {
   "cell_type": "code",
   "execution_count": 71,
   "id": "e839051c",
   "metadata": {
    "scrolled": false
   },
   "outputs": [
    {
     "data": {
      "text/html": [
       "<div>\n",
       "<style scoped>\n",
       "    .dataframe tbody tr th:only-of-type {\n",
       "        vertical-align: middle;\n",
       "    }\n",
       "\n",
       "    .dataframe tbody tr th {\n",
       "        vertical-align: top;\n",
       "    }\n",
       "\n",
       "    .dataframe thead th {\n",
       "        text-align: right;\n",
       "    }\n",
       "</style>\n",
       "<table border=\"1\" class=\"dataframe\">\n",
       "  <thead>\n",
       "    <tr style=\"text-align: right;\">\n",
       "      <th></th>\n",
       "      <th>country_id</th>\n",
       "      <th>country_name</th>\n",
       "      <th>cm_name</th>\n",
       "      <th>mp_price</th>\n",
       "      <th>mp_year</th>\n",
       "      <th>mp_month</th>\n",
       "      <th>Date</th>\n",
       "    </tr>\n",
       "  </thead>\n",
       "  <tbody>\n",
       "    <tr>\n",
       "      <th>13</th>\n",
       "      <td>29.0</td>\n",
       "      <td>Benin</td>\n",
       "      <td>Maize - Wholesale</td>\n",
       "      <td>105.00</td>\n",
       "      <td>2005</td>\n",
       "      <td>1</td>\n",
       "      <td>2005-01-01</td>\n",
       "    </tr>\n",
       "    <tr>\n",
       "      <th>14</th>\n",
       "      <td>29.0</td>\n",
       "      <td>Benin</td>\n",
       "      <td>Maize - Wholesale</td>\n",
       "      <td>123.75</td>\n",
       "      <td>2005</td>\n",
       "      <td>2</td>\n",
       "      <td>2005-02-01</td>\n",
       "    </tr>\n",
       "  </tbody>\n",
       "</table>\n",
       "</div>"
      ],
      "text/plain": [
       "    country_id country_name            cm_name  mp_price  mp_year  mp_month  \\\n",
       "13        29.0        Benin  Maize - Wholesale    105.00     2005         1   \n",
       "14        29.0        Benin  Maize - Wholesale    123.75     2005         2   \n",
       "\n",
       "         Date  \n",
       "13 2005-01-01  \n",
       "14 2005-02-01  "
      ]
     },
     "execution_count": 71,
     "metadata": {},
     "output_type": "execute_result"
    }
   ],
   "source": [
    "prices_xof = globalFoodData.loc[(globalFoodData['cur_name'] == 'XOF'), \n",
    "                ['country_id','country_name','cm_name', 'mp_price', 'mp_year', 'mp_month', 'Date']]\n",
    "prices_xof.head(2)"
   ]
  },
  {
   "cell_type": "code",
   "execution_count": null,
   "id": "1ffe91e4",
   "metadata": {},
   "outputs": [],
   "source": []
  },
  {
   "cell_type": "code",
   "execution_count": 17,
   "id": "91b8946f",
   "metadata": {
    "scrolled": false
   },
   "outputs": [
    {
     "data": {
      "text/plain": [
       "array(['Benin', 'Burkina Faso', \"Cote d'Ivoire\", 'Guinea-Bissau', 'Mali',\n",
       "       'Niger', 'Senegal', 'Togo'], dtype=object)"
      ]
     },
     "execution_count": 17,
     "metadata": {},
     "output_type": "execute_result"
    }
   ],
   "source": [
    "prices_xof['country_name'].unique()"
   ]
  },
  {
   "cell_type": "code",
   "execution_count": 18,
   "id": "26098a27",
   "metadata": {
    "scrolled": false
   },
   "outputs": [
    {
     "data": {
      "image/png": "[encoded data removed]",
      "text/plain": [
       "<Figure size 2160x1080 with 1 Axes>"
      ]
     },
     "metadata": {
      "needs_background": "light"
     },
     "output_type": "display_data"
    }
   ],
   "source": [
    "#As this is a very large dataset I wanted to see what countries had the most records - used with the help of kaggle tutorial\n",
    "plot, ax = plt.subplots(1, 1, figsize=(30, 15), sharex=True)\n",
    "globalFood_top20 = prices_xof[['country_id', 'country_name']].groupby('country_name').agg(['count'])['country_id']['count'].sort_values(ascending=False)[:20]\n",
    "plot = sns.barplot( x = globalFood_top20.index, y = globalFood_top20.values, ax = ax)\n",
    "plot.set_xticklabels(labels=globalFood_top20.index , rotation=90)\n",
    "plot.set_ylabel(\"Number of Records in the Dataset\")\n",
    "plot.set_xlabel(\"Country Name\")\n",
    "plot.set_title(\"Top 20 Countries by most data records\");"
   ]
  },
  {
   "cell_type": "markdown",
   "id": "cc0941c9",
   "metadata": {},
   "source": [
    "Choose top three countries to do analysis on"
   ]
  },
  {
   "cell_type": "code",
   "execution_count": 19,
   "id": "a338df69",
   "metadata": {
    "scrolled": false
   },
   "outputs": [],
   "source": [
    "#country_analysis = prices_xof[['country_id','country_name','cm_name', 'mp_price', 'mp_year', 'mp_month']]\n",
    "#country_analysis.head(5)"
   ]
  },
  {
   "cell_type": "code",
   "execution_count": 44,
   "id": "d9ce592d",
   "metadata": {},
   "outputs": [
    {
     "data": {
      "text/html": [
       "<div>\n",
       "<style scoped>\n",
       "    .dataframe tbody tr th:only-of-type {\n",
       "        vertical-align: middle;\n",
       "    }\n",
       "\n",
       "    .dataframe tbody tr th {\n",
       "        vertical-align: top;\n",
       "    }\n",
       "\n",
       "    .dataframe thead th {\n",
       "        text-align: right;\n",
       "    }\n",
       "</style>\n",
       "<table border=\"1\" class=\"dataframe\">\n",
       "  <thead>\n",
       "    <tr style=\"text-align: right;\">\n",
       "      <th></th>\n",
       "      <th>country_id</th>\n",
       "      <th>country_name</th>\n",
       "      <th>cm_name</th>\n",
       "      <th>mp_price</th>\n",
       "      <th>mp_year</th>\n",
       "      <th>mp_month</th>\n",
       "      <th>Date</th>\n",
       "    </tr>\n",
       "  </thead>\n",
       "  <tbody>\n",
       "    <tr>\n",
       "      <th>102663</th>\n",
       "      <td>155.0</td>\n",
       "      <td>Mali</td>\n",
       "      <td>Maize - Retail</td>\n",
       "      <td>98.75</td>\n",
       "      <td>2004</td>\n",
       "      <td>1</td>\n",
       "      <td>2004-01-01</td>\n",
       "    </tr>\n",
       "  </tbody>\n",
       "</table>\n",
       "</div>"
      ],
      "text/plain": [
       "        country_id country_name         cm_name  mp_price  mp_year  mp_month  \\\n",
       "102663       155.0         Mali  Maize - Retail     98.75     2004         1   \n",
       "\n",
       "             Date  \n",
       "102663 2004-01-01  "
      ]
     },
     "execution_count": 44,
     "metadata": {},
     "output_type": "execute_result"
    }
   ],
   "source": [
    "country_analysis = prices_xof.loc[(prices_xof['country_name'] == 'Mali') & (prices_xof['cm_name'] == 'Maize - Retail'), \n",
    "                ['country_id','country_name','cm_name', 'mp_price', 'mp_year', 'mp_month', 'Date']]\n",
    "country_analysis.head(1)"
   ]
  },
  {
   "cell_type": "code",
   "execution_count": 21,
   "id": "985dbbbc",
   "metadata": {},
   "outputs": [
    {
     "data": {
      "text/html": [
       "<div>\n",
       "<style scoped>\n",
       "    .dataframe tbody tr th:only-of-type {\n",
       "        vertical-align: middle;\n",
       "    }\n",
       "\n",
       "    .dataframe tbody tr th {\n",
       "        vertical-align: top;\n",
       "    }\n",
       "\n",
       "    .dataframe thead tr th {\n",
       "        text-align: left;\n",
       "    }\n",
       "\n",
       "    .dataframe thead tr:last-of-type th {\n",
       "        text-align: right;\n",
       "    }\n",
       "</style>\n",
       "<table border=\"1\" class=\"dataframe\">\n",
       "  <thead>\n",
       "    <tr>\n",
       "      <th></th>\n",
       "      <th></th>\n",
       "      <th></th>\n",
       "      <th>mean</th>\n",
       "      <th>sum</th>\n",
       "    </tr>\n",
       "    <tr>\n",
       "      <th></th>\n",
       "      <th></th>\n",
       "      <th></th>\n",
       "      <th>mp_price</th>\n",
       "      <th>mp_price</th>\n",
       "    </tr>\n",
       "    <tr>\n",
       "      <th>cm_name</th>\n",
       "      <th>mp_year</th>\n",
       "      <th>mp_month</th>\n",
       "      <th></th>\n",
       "      <th></th>\n",
       "    </tr>\n",
       "  </thead>\n",
       "  <tbody>\n",
       "    <tr>\n",
       "      <th rowspan=\"10\" valign=\"top\">Maize - Retail</th>\n",
       "      <th rowspan=\"5\" valign=\"top\">2004</th>\n",
       "      <th>1</th>\n",
       "      <td>83.67</td>\n",
       "      <td>585.72</td>\n",
       "    </tr>\n",
       "    <tr>\n",
       "      <th>2</th>\n",
       "      <td>83.58</td>\n",
       "      <td>585.08</td>\n",
       "    </tr>\n",
       "    <tr>\n",
       "      <th>3</th>\n",
       "      <td>87.04</td>\n",
       "      <td>435.22</td>\n",
       "    </tr>\n",
       "    <tr>\n",
       "      <th>4</th>\n",
       "      <td>88.68</td>\n",
       "      <td>620.75</td>\n",
       "    </tr>\n",
       "    <tr>\n",
       "      <th>5</th>\n",
       "      <td>100.71</td>\n",
       "      <td>705.00</td>\n",
       "    </tr>\n",
       "    <tr>\n",
       "      <th>...</th>\n",
       "      <th>...</th>\n",
       "      <td>...</td>\n",
       "      <td>...</td>\n",
       "    </tr>\n",
       "    <tr>\n",
       "      <th rowspan=\"4\" valign=\"top\">2021</th>\n",
       "      <th>4</th>\n",
       "      <td>210.83</td>\n",
       "      <td>13915.10</td>\n",
       "    </tr>\n",
       "    <tr>\n",
       "      <th>5</th>\n",
       "      <td>212.14</td>\n",
       "      <td>14001.27</td>\n",
       "    </tr>\n",
       "    <tr>\n",
       "      <th>6</th>\n",
       "      <td>210.14</td>\n",
       "      <td>13239.00</td>\n",
       "    </tr>\n",
       "    <tr>\n",
       "      <th>7</th>\n",
       "      <td>218.98</td>\n",
       "      <td>14234.00</td>\n",
       "    </tr>\n",
       "    <tr>\n",
       "      <th>All</th>\n",
       "      <th></th>\n",
       "      <th></th>\n",
       "      <td>171.43</td>\n",
       "      <td>1462632.92</td>\n",
       "    </tr>\n",
       "  </tbody>\n",
       "</table>\n",
       "<p>211 rows × 2 columns</p>\n",
       "</div>"
      ],
      "text/plain": [
       "                                    mean         sum\n",
       "                                mp_price    mp_price\n",
       "cm_name        mp_year mp_month                     \n",
       "Maize - Retail 2004    1           83.67      585.72\n",
       "                       2           83.58      585.08\n",
       "                       3           87.04      435.22\n",
       "                       4           88.68      620.75\n",
       "                       5          100.71      705.00\n",
       "...                                  ...         ...\n",
       "               2021    4          210.83    13915.10\n",
       "                       5          212.14    14001.27\n",
       "                       6          210.14    13239.00\n",
       "                       7          218.98    14234.00\n",
       "All                               171.43  1462632.92\n",
       "\n",
       "[211 rows x 2 columns]"
      ]
     },
     "execution_count": 21,
     "metadata": {},
     "output_type": "execute_result"
    }
   ],
   "source": [
    "df = pd.pivot_table(country_analysis, values=['mp_price'], index=['cm_name','mp_year','mp_month'],\n",
    "                       aggfunc=[np.mean,np.sum], margins = True).round(2)\n",
    "df"
   ]
  },
  {
   "cell_type": "code",
   "execution_count": 22,
   "id": "bdb4f762",
   "metadata": {},
   "outputs": [],
   "source": [
    "le = LabelEncoder()"
   ]
  },
  {
   "cell_type": "code",
   "execution_count": 23,
   "id": "4fa60954",
   "metadata": {},
   "outputs": [
    {
     "data": {
      "text/html": [
       "<div>\n",
       "<style scoped>\n",
       "    .dataframe tbody tr th:only-of-type {\n",
       "        vertical-align: middle;\n",
       "    }\n",
       "\n",
       "    .dataframe tbody tr th {\n",
       "        vertical-align: top;\n",
       "    }\n",
       "\n",
       "    .dataframe thead th {\n",
       "        text-align: right;\n",
       "    }\n",
       "</style>\n",
       "<table border=\"1\" class=\"dataframe\">\n",
       "  <thead>\n",
       "    <tr style=\"text-align: right;\">\n",
       "      <th></th>\n",
       "      <th>country_id</th>\n",
       "      <th>country_name</th>\n",
       "      <th>cm_name</th>\n",
       "      <th>mp_price</th>\n",
       "      <th>mp_year</th>\n",
       "      <th>mp_month</th>\n",
       "      <th>Date</th>\n",
       "    </tr>\n",
       "  </thead>\n",
       "  <tbody>\n",
       "    <tr>\n",
       "      <th>102663</th>\n",
       "      <td>155.0</td>\n",
       "      <td>Mali</td>\n",
       "      <td>Maize - Retail</td>\n",
       "      <td>98.75</td>\n",
       "      <td>2004</td>\n",
       "      <td>1</td>\n",
       "      <td>0</td>\n",
       "    </tr>\n",
       "    <tr>\n",
       "      <th>102664</th>\n",
       "      <td>155.0</td>\n",
       "      <td>Mali</td>\n",
       "      <td>Maize - Retail</td>\n",
       "      <td>98.86</td>\n",
       "      <td>2004</td>\n",
       "      <td>2</td>\n",
       "      <td>1</td>\n",
       "    </tr>\n",
       "    <tr>\n",
       "      <th>102665</th>\n",
       "      <td>155.0</td>\n",
       "      <td>Mali</td>\n",
       "      <td>Maize - Retail</td>\n",
       "      <td>98.96</td>\n",
       "      <td>2004</td>\n",
       "      <td>3</td>\n",
       "      <td>2</td>\n",
       "    </tr>\n",
       "    <tr>\n",
       "      <th>102666</th>\n",
       "      <td>155.0</td>\n",
       "      <td>Mali</td>\n",
       "      <td>Maize - Retail</td>\n",
       "      <td>100.00</td>\n",
       "      <td>2004</td>\n",
       "      <td>4</td>\n",
       "      <td>3</td>\n",
       "    </tr>\n",
       "    <tr>\n",
       "      <th>102667</th>\n",
       "      <td>155.0</td>\n",
       "      <td>Mali</td>\n",
       "      <td>Maize - Retail</td>\n",
       "      <td>100.00</td>\n",
       "      <td>2004</td>\n",
       "      <td>5</td>\n",
       "      <td>4</td>\n",
       "    </tr>\n",
       "    <tr>\n",
       "      <th>...</th>\n",
       "      <td>...</td>\n",
       "      <td>...</td>\n",
       "      <td>...</td>\n",
       "      <td>...</td>\n",
       "      <td>...</td>\n",
       "      <td>...</td>\n",
       "      <td>...</td>\n",
       "    </tr>\n",
       "    <tr>\n",
       "      <th>175686</th>\n",
       "      <td>155.0</td>\n",
       "      <td>Mali</td>\n",
       "      <td>Maize - Retail</td>\n",
       "      <td>350.00</td>\n",
       "      <td>2021</td>\n",
       "      <td>3</td>\n",
       "      <td>205</td>\n",
       "    </tr>\n",
       "    <tr>\n",
       "      <th>175687</th>\n",
       "      <td>155.0</td>\n",
       "      <td>Mali</td>\n",
       "      <td>Maize - Retail</td>\n",
       "      <td>200.00</td>\n",
       "      <td>2021</td>\n",
       "      <td>5</td>\n",
       "      <td>207</td>\n",
       "    </tr>\n",
       "    <tr>\n",
       "      <th>175688</th>\n",
       "      <td>155.0</td>\n",
       "      <td>Mali</td>\n",
       "      <td>Maize - Retail</td>\n",
       "      <td>200.00</td>\n",
       "      <td>2021</td>\n",
       "      <td>6</td>\n",
       "      <td>208</td>\n",
       "    </tr>\n",
       "    <tr>\n",
       "      <th>175689</th>\n",
       "      <td>155.0</td>\n",
       "      <td>Mali</td>\n",
       "      <td>Maize - Retail</td>\n",
       "      <td>200.00</td>\n",
       "      <td>2021</td>\n",
       "      <td>7</td>\n",
       "      <td>209</td>\n",
       "    </tr>\n",
       "    <tr>\n",
       "      <th>176225</th>\n",
       "      <td>155.0</td>\n",
       "      <td>Mali</td>\n",
       "      <td>Maize - Retail</td>\n",
       "      <td>225.00</td>\n",
       "      <td>2020</td>\n",
       "      <td>7</td>\n",
       "      <td>197</td>\n",
       "    </tr>\n",
       "  </tbody>\n",
       "</table>\n",
       "<p>8532 rows × 7 columns</p>\n",
       "</div>"
      ],
      "text/plain": [
       "        country_id country_name         cm_name  mp_price  mp_year  mp_month  \\\n",
       "102663       155.0         Mali  Maize - Retail     98.75     2004         1   \n",
       "102664       155.0         Mali  Maize - Retail     98.86     2004         2   \n",
       "102665       155.0         Mali  Maize - Retail     98.96     2004         3   \n",
       "102666       155.0         Mali  Maize - Retail    100.00     2004         4   \n",
       "102667       155.0         Mali  Maize - Retail    100.00     2004         5   \n",
       "...            ...          ...             ...       ...      ...       ...   \n",
       "175686       155.0         Mali  Maize - Retail    350.00     2021         3   \n",
       "175687       155.0         Mali  Maize - Retail    200.00     2021         5   \n",
       "175688       155.0         Mali  Maize - Retail    200.00     2021         6   \n",
       "175689       155.0         Mali  Maize - Retail    200.00     2021         7   \n",
       "176225       155.0         Mali  Maize - Retail    225.00     2020         7   \n",
       "\n",
       "        Date  \n",
       "102663     0  \n",
       "102664     1  \n",
       "102665     2  \n",
       "102666     3  \n",
       "102667     4  \n",
       "...      ...  \n",
       "175686   205  \n",
       "175687   207  \n",
       "175688   208  \n",
       "175689   209  \n",
       "176225   197  \n",
       "\n",
       "[8532 rows x 7 columns]"
      ]
     },
     "execution_count": 23,
     "metadata": {},
     "output_type": "execute_result"
    }
   ],
   "source": [
    "dfle = country_analysis\n",
    "dfle.Date = le.fit_transform(dfle.Date)\n",
    "dfle"
   ]
  },
  {
   "cell_type": "code",
   "execution_count": 24,
   "id": "4b8a6238",
   "metadata": {},
   "outputs": [
    {
     "data": {
      "image/png": "[encoded data removed]",
      "text/plain": [
       "<Figure size 1080x432 with 1 Axes>"
      ]
     },
     "metadata": {
      "needs_background": "light"
     },
     "output_type": "display_data"
    }
   ],
   "source": [
    "data = dfle.groupby(['mp_year'], as_index=False)\\\n",
    ".agg({'mp_year': 'first', 'mp_price': 'mean'})\n",
    "\n",
    "ax = plt.gca()\n",
    "\n",
    "\n",
    "data.plot(kind='line',x='mp_year',y='mp_price',ax=ax, figsize=(15, 6))\n",
    "ax.locator_params(integer=True)\n",
    "plt.xticks(ticks=data['mp_year'], labels=data['mp_year'])\n",
    "\n",
    "plt.show()"
   ]
  },
  {
   "cell_type": "code",
   "execution_count": 25,
   "id": "e854afd4",
   "metadata": {},
   "outputs": [],
   "source": [
    "# Analyze the Monthly Change in mp_price\n",
    "\n",
    "#month = country_analysis.resample(\"M\").mean()\n",
    "#fig, ax = plt.subplots(figsize=(10, 6))\n",
    "#ax.xaxis.set_major_formatter(mdates.DateFormatter('%Y-%m'))\n",
    "#ax.bar(dfle.index, dfle[\"mp_price\"], width=25, align='center')\n",
    "#ax.set_ylabel(\"USD (US Dollars)\")\n",
    "#ax.set_xlabel('Date')\n",
    "#ax.set_title(\"Monthly Changes in Food Price\");"
   ]
  },
  {
   "cell_type": "code",
   "execution_count": 26,
   "id": "cbfe0b60",
   "metadata": {},
   "outputs": [
    {
     "data": {
      "text/html": [
       "<div>\n",
       "<style scoped>\n",
       "    .dataframe tbody tr th:only-of-type {\n",
       "        vertical-align: middle;\n",
       "    }\n",
       "\n",
       "    .dataframe tbody tr th {\n",
       "        vertical-align: top;\n",
       "    }\n",
       "\n",
       "    .dataframe thead th {\n",
       "        text-align: right;\n",
       "    }\n",
       "</style>\n",
       "<table border=\"1\" class=\"dataframe\">\n",
       "  <thead>\n",
       "    <tr style=\"text-align: right;\">\n",
       "      <th></th>\n",
       "      <th>mp_year</th>\n",
       "      <th>mp_price</th>\n",
       "    </tr>\n",
       "  </thead>\n",
       "  <tbody>\n",
       "    <tr>\n",
       "      <th>0</th>\n",
       "      <td>2004</td>\n",
       "      <td>99.106292</td>\n",
       "    </tr>\n",
       "    <tr>\n",
       "      <th>1</th>\n",
       "      <td>2005</td>\n",
       "      <td>161.527660</td>\n",
       "    </tr>\n",
       "    <tr>\n",
       "      <th>2</th>\n",
       "      <td>2006</td>\n",
       "      <td>131.130208</td>\n",
       "    </tr>\n",
       "    <tr>\n",
       "      <th>3</th>\n",
       "      <td>2007</td>\n",
       "      <td>123.095061</td>\n",
       "    </tr>\n",
       "    <tr>\n",
       "      <th>4</th>\n",
       "      <td>2008</td>\n",
       "      <td>150.784356</td>\n",
       "    </tr>\n",
       "  </tbody>\n",
       "</table>\n",
       "</div>"
      ],
      "text/plain": [
       "   mp_year    mp_price\n",
       "0     2004   99.106292\n",
       "1     2005  161.527660\n",
       "2     2006  131.130208\n",
       "3     2007  123.095061\n",
       "4     2008  150.784356"
      ]
     },
     "execution_count": 26,
     "metadata": {},
     "output_type": "execute_result"
    }
   ],
   "source": [
    "data.head()"
   ]
  },
  {
   "cell_type": "code",
   "execution_count": 27,
   "id": "4f0a8682",
   "metadata": {
    "scrolled": false
   },
   "outputs": [
    {
     "data": {
      "image/png": "[encoded data removed]",
      "text/plain": [
       "<Figure size 2160x1080 with 1 Axes>"
      ]
     },
     "metadata": {
      "needs_background": "light"
     },
     "output_type": "display_data"
    }
   ],
   "source": [
    "# Top 10 most reported commodity\n",
    "fig, ax = plt.subplots(1, 1, figsize=(30, 15), sharex=True)\n",
    "top10_comms = prices_xof[['country_id', \"cm_name\"]].groupby(\"cm_name\").agg(['count'])[\"country_id\"]['count'].sort_values(ascending=False)[:10]\n",
    "fig = sns.barplot( x = top10_comms.index, y = top10_comms.values, ax=ax)\n",
    "fig.set_xticklabels(labels=top10_comms.index , rotation=90)\n",
    "fig.set_ylabel(\"Number of Commodities Reported\")\n",
    "fig.set_xlabel(\"Commodity Name\")\n",
    "fig.set_title(\"Top 20 Comomodities reported\");"
   ]
  },
  {
   "cell_type": "code",
   "execution_count": 28,
   "id": "09cb3ce4",
   "metadata": {
    "scrolled": false
   },
   "outputs": [
    {
     "data": {
      "text/html": [
       "<div>\n",
       "<style scoped>\n",
       "    .dataframe tbody tr th:only-of-type {\n",
       "        vertical-align: middle;\n",
       "    }\n",
       "\n",
       "    .dataframe tbody tr th {\n",
       "        vertical-align: top;\n",
       "    }\n",
       "\n",
       "    .dataframe thead th {\n",
       "        text-align: right;\n",
       "    }\n",
       "</style>\n",
       "<table border=\"1\" class=\"dataframe\">\n",
       "  <thead>\n",
       "    <tr style=\"text-align: right;\">\n",
       "      <th></th>\n",
       "      <th>country_id</th>\n",
       "      <th>local_id</th>\n",
       "      <th>mkt_id</th>\n",
       "      <th>cm_id</th>\n",
       "      <th>measure_id</th>\n",
       "      <th>mp_price</th>\n",
       "      <th>mp_year</th>\n",
       "      <th>mp_month</th>\n",
       "    </tr>\n",
       "    <tr>\n",
       "      <th>mkt_type_id</th>\n",
       "      <th></th>\n",
       "      <th></th>\n",
       "      <th></th>\n",
       "      <th></th>\n",
       "      <th></th>\n",
       "      <th></th>\n",
       "      <th></th>\n",
       "      <th></th>\n",
       "    </tr>\n",
       "  </thead>\n",
       "  <tbody>\n",
       "    <tr>\n",
       "      <th>15</th>\n",
       "      <td>32539464.0</td>\n",
       "      <td>2377079070</td>\n",
       "      <td>372631576</td>\n",
       "      <td>37424235</td>\n",
       "      <td>1684835</td>\n",
       "      <td>2.571996e+08</td>\n",
       "      <td>505867235</td>\n",
       "      <td>1584107</td>\n",
       "    </tr>\n",
       "    <tr>\n",
       "      <th>14</th>\n",
       "      <td>768347.0</td>\n",
       "      <td>173439481</td>\n",
       "      <td>6437546</td>\n",
       "      <td>1549467</td>\n",
       "      <td>66943</td>\n",
       "      <td>1.820214e+08</td>\n",
       "      <td>15388793</td>\n",
       "      <td>48712</td>\n",
       "    </tr>\n",
       "  </tbody>\n",
       "</table>\n",
       "</div>"
      ],
      "text/plain": [
       "             country_id    local_id     mkt_id     cm_id  measure_id  \\\n",
       "mkt_type_id                                                            \n",
       "15           32539464.0  2377079070  372631576  37424235     1684835   \n",
       "14             768347.0   173439481    6437546   1549467       66943   \n",
       "\n",
       "                 mp_price    mp_year  mp_month  \n",
       "mkt_type_id                                     \n",
       "15           2.571996e+08  505867235   1584107  \n",
       "14           1.820214e+08   15388793     48712  "
      ]
     },
     "execution_count": 28,
     "metadata": {},
     "output_type": "execute_result"
    }
   ],
   "source": [
    "globalFoodData_com = globalFoodData.groupby(['mkt_type_id']).sum().sort_values([\"mp_price\"], ascending=False)\n",
    "globalFoodData_com.head()"
   ]
  },
  {
   "cell_type": "code",
   "execution_count": 29,
   "id": "bd9c1a1d",
   "metadata": {},
   "outputs": [],
   "source": [
    "#globalFoodData_com.plot(kind='bar',color='purple')\n",
    "# Pie chart, where the slices will be ordered and plotted counter-clockwise:\n",
    "\n",
    "#sizes = [15, 50, 45, 10]\n",
    "\n",
    "\n",
    "#fig, ax = plt.subplots()\n",
    "#ax.pie(sizes, labels=labels, autopct='%1.1f%%')\n",
    "#ax.axis('equal')  # Equal aspect ratio ensures the pie chart is circular.\n",
    "#ax.set_title('Engineering Diciplines')\n",
    "\n",
    "\n",
    "#plt.show()\n",
    "\n",
    "#globalFoodData_com.plot.pie(subplots=True, figsize=(11, 6))"
   ]
  },
  {
   "cell_type": "markdown",
   "id": "35c575ab",
   "metadata": {},
   "source": [
    "# Encoding"
   ]
  },
  {
   "cell_type": "code",
   "execution_count": 30,
   "id": "cd5ca4b6",
   "metadata": {
    "scrolled": true
   },
   "outputs": [
    {
     "data": {
      "text/html": [
       "<div>\n",
       "<style scoped>\n",
       "    .dataframe tbody tr th:only-of-type {\n",
       "        vertical-align: middle;\n",
       "    }\n",
       "\n",
       "    .dataframe tbody tr th {\n",
       "        vertical-align: top;\n",
       "    }\n",
       "\n",
       "    .dataframe thead th {\n",
       "        text-align: right;\n",
       "    }\n",
       "</style>\n",
       "<table border=\"1\" class=\"dataframe\">\n",
       "  <thead>\n",
       "    <tr style=\"text-align: right;\">\n",
       "      <th></th>\n",
       "      <th>country_id</th>\n",
       "      <th>country_name</th>\n",
       "      <th>local_id</th>\n",
       "      <th>local_name</th>\n",
       "      <th>mkt_id</th>\n",
       "      <th>mkt_name</th>\n",
       "      <th>cm_id</th>\n",
       "      <th>cm_name</th>\n",
       "      <th>cur_name</th>\n",
       "      <th>mkt_type_id</th>\n",
       "      <th>mkt_type</th>\n",
       "      <th>measure_id</th>\n",
       "      <th>measure_type</th>\n",
       "      <th>mp_price</th>\n",
       "      <th>mp_year</th>\n",
       "      <th>mp_month</th>\n",
       "      <th>mm</th>\n",
       "      <th>Date</th>\n",
       "    </tr>\n",
       "  </thead>\n",
       "  <tbody>\n",
       "    <tr>\n",
       "      <th>13</th>\n",
       "      <td>29.0</td>\n",
       "      <td>Benin</td>\n",
       "      <td>609</td>\n",
       "      <td>Alibori</td>\n",
       "      <td>1044</td>\n",
       "      <td>Malanville (CBM)</td>\n",
       "      <td>51</td>\n",
       "      <td>Maize - Wholesale</td>\n",
       "      <td>XOF</td>\n",
       "      <td>14</td>\n",
       "      <td>Wholesale</td>\n",
       "      <td>5</td>\n",
       "      <td>KG</td>\n",
       "      <td>105.0</td>\n",
       "      <td>2005</td>\n",
       "      <td>1</td>\n",
       "      <td>XOF</td>\n",
       "      <td>2005-01-01</td>\n",
       "    </tr>\n",
       "  </tbody>\n",
       "</table>\n",
       "</div>"
      ],
      "text/plain": [
       "    country_id country_name  local_id local_name  mkt_id          mkt_name  \\\n",
       "13        29.0        Benin       609    Alibori    1044  Malanville (CBM)   \n",
       "\n",
       "    cm_id            cm_name cur_name  mkt_type_id   mkt_type  measure_id  \\\n",
       "13     51  Maize - Wholesale      XOF           14  Wholesale           5   \n",
       "\n",
       "   measure_type  mp_price  mp_year  mp_month   mm       Date  \n",
       "13           KG     105.0     2005         1  XOF 2005-01-01  "
      ]
     },
     "execution_count": 30,
     "metadata": {},
     "output_type": "execute_result"
    }
   ],
   "source": [
    "globalFoodData.head(1)"
   ]
  },
  {
   "cell_type": "code",
   "execution_count": 31,
   "id": "a8aa29e7",
   "metadata": {
    "scrolled": false
   },
   "outputs": [
    {
     "data": {
      "text/html": [
       "<div>\n",
       "<style scoped>\n",
       "    .dataframe tbody tr th:only-of-type {\n",
       "        vertical-align: middle;\n",
       "    }\n",
       "\n",
       "    .dataframe tbody tr th {\n",
       "        vertical-align: top;\n",
       "    }\n",
       "\n",
       "    .dataframe thead th {\n",
       "        text-align: right;\n",
       "    }\n",
       "</style>\n",
       "<table border=\"1\" class=\"dataframe\">\n",
       "  <thead>\n",
       "    <tr style=\"text-align: right;\">\n",
       "      <th></th>\n",
       "      <th>country_name</th>\n",
       "      <th>cm_name</th>\n",
       "      <th>mp_price</th>\n",
       "      <th>mp_year</th>\n",
       "    </tr>\n",
       "  </thead>\n",
       "  <tbody>\n",
       "    <tr>\n",
       "      <th>4472</th>\n",
       "      <td>Benin</td>\n",
       "      <td>Maize - Retail</td>\n",
       "      <td>151.0</td>\n",
       "      <td>2014</td>\n",
       "    </tr>\n",
       "    <tr>\n",
       "      <th>4473</th>\n",
       "      <td>Benin</td>\n",
       "      <td>Maize - Retail</td>\n",
       "      <td>144.0</td>\n",
       "      <td>2014</td>\n",
       "    </tr>\n",
       "    <tr>\n",
       "      <th>4474</th>\n",
       "      <td>Benin</td>\n",
       "      <td>Maize - Retail</td>\n",
       "      <td>130.0</td>\n",
       "      <td>2014</td>\n",
       "    </tr>\n",
       "    <tr>\n",
       "      <th>4475</th>\n",
       "      <td>Benin</td>\n",
       "      <td>Maize - Retail</td>\n",
       "      <td>118.0</td>\n",
       "      <td>2014</td>\n",
       "    </tr>\n",
       "    <tr>\n",
       "      <th>4476</th>\n",
       "      <td>Benin</td>\n",
       "      <td>Maize - Retail</td>\n",
       "      <td>129.0</td>\n",
       "      <td>2014</td>\n",
       "    </tr>\n",
       "    <tr>\n",
       "      <th>...</th>\n",
       "      <td>...</td>\n",
       "      <td>...</td>\n",
       "      <td>...</td>\n",
       "      <td>...</td>\n",
       "    </tr>\n",
       "    <tr>\n",
       "      <th>229969</th>\n",
       "      <td>Niger</td>\n",
       "      <td>Maize - Retail</td>\n",
       "      <td>279.0</td>\n",
       "      <td>2021</td>\n",
       "    </tr>\n",
       "    <tr>\n",
       "      <th>229970</th>\n",
       "      <td>Niger</td>\n",
       "      <td>Maize - Retail</td>\n",
       "      <td>273.0</td>\n",
       "      <td>2021</td>\n",
       "    </tr>\n",
       "    <tr>\n",
       "      <th>229971</th>\n",
       "      <td>Niger</td>\n",
       "      <td>Maize - Retail</td>\n",
       "      <td>279.0</td>\n",
       "      <td>2021</td>\n",
       "    </tr>\n",
       "    <tr>\n",
       "      <th>229972</th>\n",
       "      <td>Niger</td>\n",
       "      <td>Maize - Retail</td>\n",
       "      <td>279.0</td>\n",
       "      <td>2021</td>\n",
       "    </tr>\n",
       "    <tr>\n",
       "      <th>229973</th>\n",
       "      <td>Niger</td>\n",
       "      <td>Maize - Retail</td>\n",
       "      <td>300.0</td>\n",
       "      <td>2021</td>\n",
       "    </tr>\n",
       "  </tbody>\n",
       "</table>\n",
       "<p>18552 rows × 4 columns</p>\n",
       "</div>"
      ],
      "text/plain": [
       "       country_name         cm_name  mp_price  mp_year\n",
       "4472          Benin  Maize - Retail     151.0     2014\n",
       "4473          Benin  Maize - Retail     144.0     2014\n",
       "4474          Benin  Maize - Retail     130.0     2014\n",
       "4475          Benin  Maize - Retail     118.0     2014\n",
       "4476          Benin  Maize - Retail     129.0     2014\n",
       "...             ...             ...       ...      ...\n",
       "229969        Niger  Maize - Retail     279.0     2021\n",
       "229970        Niger  Maize - Retail     273.0     2021\n",
       "229971        Niger  Maize - Retail     279.0     2021\n",
       "229972        Niger  Maize - Retail     279.0     2021\n",
       "229973        Niger  Maize - Retail     300.0     2021\n",
       "\n",
       "[18552 rows x 4 columns]"
      ]
     },
     "execution_count": 31,
     "metadata": {},
     "output_type": "execute_result"
    }
   ],
   "source": [
    "df = prices_xof.loc[(globalFoodData['cm_name'] == 'Maize - Retail'), \n",
    "         ['country_name','cm_name', 'mp_price', 'mp_year']]\n",
    "df"
   ]
  },
  {
   "cell_type": "code",
   "execution_count": 32,
   "id": "f4294f25",
   "metadata": {},
   "outputs": [
    {
     "data": {
      "text/html": [
       "<div>\n",
       "<style scoped>\n",
       "    .dataframe tbody tr th:only-of-type {\n",
       "        vertical-align: middle;\n",
       "    }\n",
       "\n",
       "    .dataframe tbody tr th {\n",
       "        vertical-align: top;\n",
       "    }\n",
       "\n",
       "    .dataframe thead th {\n",
       "        text-align: right;\n",
       "    }\n",
       "</style>\n",
       "<table border=\"1\" class=\"dataframe\">\n",
       "  <thead>\n",
       "    <tr style=\"text-align: right;\">\n",
       "      <th></th>\n",
       "      <th></th>\n",
       "      <th>country_id</th>\n",
       "      <th>mp_price</th>\n",
       "      <th>mp_year</th>\n",
       "      <th>mp_month</th>\n",
       "    </tr>\n",
       "    <tr>\n",
       "      <th>country_name</th>\n",
       "      <th>cm_name</th>\n",
       "      <th></th>\n",
       "      <th></th>\n",
       "      <th></th>\n",
       "      <th></th>\n",
       "    </tr>\n",
       "  </thead>\n",
       "  <tbody>\n",
       "    <tr>\n",
       "      <th>Mali</th>\n",
       "      <th>Millet - Retail</th>\n",
       "      <td>1790560.0</td>\n",
       "      <td>2.289861e+06</td>\n",
       "      <td>23272256</td>\n",
       "      <td>73620</td>\n",
       "    </tr>\n",
       "    <tr>\n",
       "      <th>Niger</th>\n",
       "      <th>Millet - Retail</th>\n",
       "      <td>1948827.0</td>\n",
       "      <td>2.294364e+06</td>\n",
       "      <td>21675778</td>\n",
       "      <td>68851</td>\n",
       "    </tr>\n",
       "    <tr>\n",
       "      <th rowspan=\"2\" valign=\"top\">Mali</th>\n",
       "      <th>Rice (local) - Retail</th>\n",
       "      <td>1615410.0</td>\n",
       "      <td>3.682568e+06</td>\n",
       "      <td>20995648</td>\n",
       "      <td>66399</td>\n",
       "    </tr>\n",
       "    <tr>\n",
       "      <th>Sorghum - Retail</th>\n",
       "      <td>1591540.0</td>\n",
       "      <td>1.837418e+06</td>\n",
       "      <td>20680760</td>\n",
       "      <td>65512</td>\n",
       "    </tr>\n",
       "    <tr>\n",
       "      <th rowspan=\"3\" valign=\"top\">Niger</th>\n",
       "      <th>Rice (imported) - Retail</th>\n",
       "      <td>1647643.0</td>\n",
       "      <td>4.217102e+06</td>\n",
       "      <td>18336727</td>\n",
       "      <td>58684</td>\n",
       "    </tr>\n",
       "    <tr>\n",
       "      <th>Sorghum - Retail</th>\n",
       "      <td>1602031.0</td>\n",
       "      <td>1.829680e+06</td>\n",
       "      <td>17826012</td>\n",
       "      <td>55975</td>\n",
       "    </tr>\n",
       "    <tr>\n",
       "      <th>Maize - Retail</th>\n",
       "      <td>1571804.0</td>\n",
       "      <td>1.905743e+06</td>\n",
       "      <td>17490374</td>\n",
       "      <td>55528</td>\n",
       "    </tr>\n",
       "    <tr>\n",
       "      <th rowspan=\"2\" valign=\"top\">Mali</th>\n",
       "      <th>Maize - Retail</th>\n",
       "      <td>1322460.0</td>\n",
       "      <td>1.462633e+06</td>\n",
       "      <td>17185295</td>\n",
       "      <td>54312</td>\n",
       "    </tr>\n",
       "    <tr>\n",
       "      <th>Rice (imported) - Retail</th>\n",
       "      <td>1303860.0</td>\n",
       "      <td>3.058070e+06</td>\n",
       "      <td>16948717</td>\n",
       "      <td>53687</td>\n",
       "    </tr>\n",
       "    <tr>\n",
       "      <th>Senegal</th>\n",
       "      <th>Millet - Retail</th>\n",
       "      <td>1662437.0</td>\n",
       "      <td>1.646333e+06</td>\n",
       "      <td>15426082</td>\n",
       "      <td>48739</td>\n",
       "    </tr>\n",
       "  </tbody>\n",
       "</table>\n",
       "</div>"
      ],
      "text/plain": [
       "                                       country_id      mp_price   mp_year  \\\n",
       "country_name cm_name                                                        \n",
       "Mali         Millet - Retail            1790560.0  2.289861e+06  23272256   \n",
       "Niger        Millet - Retail            1948827.0  2.294364e+06  21675778   \n",
       "Mali         Rice (local) - Retail      1615410.0  3.682568e+06  20995648   \n",
       "             Sorghum - Retail           1591540.0  1.837418e+06  20680760   \n",
       "Niger        Rice (imported) - Retail   1647643.0  4.217102e+06  18336727   \n",
       "             Sorghum - Retail           1602031.0  1.829680e+06  17826012   \n",
       "             Maize - Retail             1571804.0  1.905743e+06  17490374   \n",
       "Mali         Maize - Retail             1322460.0  1.462633e+06  17185295   \n",
       "             Rice (imported) - Retail   1303860.0  3.058070e+06  16948717   \n",
       "Senegal      Millet - Retail            1662437.0  1.646333e+06  15426082   \n",
       "\n",
       "                                       mp_month  \n",
       "country_name cm_name                             \n",
       "Mali         Millet - Retail              73620  \n",
       "Niger        Millet - Retail              68851  \n",
       "Mali         Rice (local) - Retail        66399  \n",
       "             Sorghum - Retail             65512  \n",
       "Niger        Rice (imported) - Retail     58684  \n",
       "             Sorghum - Retail             55975  \n",
       "             Maize - Retail               55528  \n",
       "Mali         Maize - Retail               54312  \n",
       "             Rice (imported) - Retail     53687  \n",
       "Senegal      Millet - Retail              48739  "
      ]
     },
     "execution_count": 32,
     "metadata": {},
     "output_type": "execute_result"
    }
   ],
   "source": [
    "prices_xof.groupby(['country_name', 'cm_name']).sum().sort_values([\"mp_year\"], ascending=False).head(10)"
   ]
  },
  {
   "cell_type": "markdown",
   "id": "6aaa97dc",
   "metadata": {},
   "source": [
    "## linear regression - global food prices"
   ]
  },
  {
   "cell_type": "code",
   "execution_count": 33,
   "id": "bbaafeb1",
   "metadata": {
    "scrolled": false
   },
   "outputs": [],
   "source": [
    "#globalFoodData.head(1)"
   ]
  },
  {
   "cell_type": "code",
   "execution_count": 34,
   "id": "0e9e3318",
   "metadata": {
    "scrolled": false
   },
   "outputs": [],
   "source": [
    "#rice_prices = globalFoodData[['local_name', 'country_name', 'cm_name', 'mp_year', 'mp_price']]\n",
    "#rice_prices = rice_prices.groupby(['country_name','mp_year']).sum().sort_values([\"mp_price\"], ascending=False)\n",
    "#rice_prices.head()"
   ]
  },
  {
   "cell_type": "code",
   "execution_count": 35,
   "id": "22da1faa",
   "metadata": {
    "scrolled": false
   },
   "outputs": [],
   "source": [
    "#globalFoodData.groupby(['cur_name']).sum().sort_values([\"cur_name\"], ascending=False)"
   ]
  },
  {
   "cell_type": "markdown",
   "id": "6c4b587f",
   "metadata": {},
   "source": [
    "The structure of the dataset you have chosen;\n",
    "\n",
    "• Any data transformation that you perform such as min-max scaling, \n",
    "encoding categorical data, and feature selection;\n",
    "• Splitting data into training and test sets;\n",
    "• Model selection and parameter tuning;\n",
    "• Model validation;\n",
    "• Interpreting result"
   ]
  },
  {
   "cell_type": "markdown",
   "id": "2ca1f85b",
   "metadata": {},
   "source": [
    "### Build the predictive model"
   ]
  },
  {
   "cell_type": "code",
   "execution_count": 97,
   "id": "620841f6",
   "metadata": {},
   "outputs": [
    {
     "data": {
      "text/plain": [
       "array(['Mali'], dtype=object)"
      ]
     },
     "execution_count": 97,
     "metadata": {},
     "output_type": "execute_result"
    }
   ],
   "source": []
  },
  {
   "cell_type": "code",
   "execution_count": 95,
   "id": "9992072c",
   "metadata": {},
   "outputs": [
    {
     "data": {
      "text/html": [
       "<div>\n",
       "<style scoped>\n",
       "    .dataframe tbody tr th:only-of-type {\n",
       "        vertical-align: middle;\n",
       "    }\n",
       "\n",
       "    .dataframe tbody tr th {\n",
       "        vertical-align: top;\n",
       "    }\n",
       "\n",
       "    .dataframe thead th {\n",
       "        text-align: right;\n",
       "    }\n",
       "</style>\n",
       "<table border=\"1\" class=\"dataframe\">\n",
       "  <thead>\n",
       "    <tr style=\"text-align: right;\">\n",
       "      <th></th>\n",
       "      <th>Date</th>\n",
       "      <th>mp_price</th>\n",
       "      <th>mp_year</th>\n",
       "      <th>mp_month</th>\n",
       "    </tr>\n",
       "  </thead>\n",
       "  <tbody>\n",
       "    <tr>\n",
       "      <th>102663</th>\n",
       "      <td>2004-01-01</td>\n",
       "      <td>98.75</td>\n",
       "      <td>2004</td>\n",
       "      <td>1</td>\n",
       "    </tr>\n",
       "    <tr>\n",
       "      <th>102664</th>\n",
       "      <td>2004-02-01</td>\n",
       "      <td>98.86</td>\n",
       "      <td>2004</td>\n",
       "      <td>2</td>\n",
       "    </tr>\n",
       "    <tr>\n",
       "      <th>102665</th>\n",
       "      <td>2004-03-01</td>\n",
       "      <td>98.96</td>\n",
       "      <td>2004</td>\n",
       "      <td>3</td>\n",
       "    </tr>\n",
       "    <tr>\n",
       "      <th>102666</th>\n",
       "      <td>2004-04-01</td>\n",
       "      <td>100.00</td>\n",
       "      <td>2004</td>\n",
       "      <td>4</td>\n",
       "    </tr>\n",
       "    <tr>\n",
       "      <th>102667</th>\n",
       "      <td>2004-05-01</td>\n",
       "      <td>100.00</td>\n",
       "      <td>2004</td>\n",
       "      <td>5</td>\n",
       "    </tr>\n",
       "  </tbody>\n",
       "</table>\n",
       "</div>"
      ],
      "text/plain": [
       "             Date  mp_price  mp_year  mp_month\n",
       "102663 2004-01-01     98.75     2004         1\n",
       "102664 2004-02-01     98.86     2004         2\n",
       "102665 2004-03-01     98.96     2004         3\n",
       "102666 2004-04-01    100.00     2004         4\n",
       "102667 2004-05-01    100.00     2004         5"
      ]
     },
     "execution_count": 95,
     "metadata": {},
     "output_type": "execute_result"
    }
   ],
   "source": [
    "# Select only the important features i.e. the date and price\n",
    "data_model = country_analysis[[\"Date\",\"mp_price\", 'mp_year','mp_month']] # select Date and Price\n",
    "# Rename the features: These names are NEEDED for the model fitting\n",
    "#data = data.rename(columns = {\"Date\":\"ds\",\"mp_price\":\"y\"}) #renaming the columns of the dataset\n",
    "data_model.head(5)"
   ]
  },
  {
   "cell_type": "code",
   "execution_count": 87,
   "id": "f961bf8f",
   "metadata": {
    "scrolled": false
   },
   "outputs": [],
   "source": [
    "import datetime\n",
    "from pandas import Series, DataFrame"
   ]
  },
  {
   "cell_type": "code",
   "execution_count": 79,
   "id": "affe181e",
   "metadata": {},
   "outputs": [],
   "source": [
    "month = data['y']"
   ]
  },
  {
   "cell_type": "code",
   "execution_count": null,
   "id": "bccead8d",
   "metadata": {},
   "outputs": [],
   "source": []
  },
  {
   "cell_type": "code",
   "execution_count": 80,
   "id": "1965fb2c",
   "metadata": {},
   "outputs": [
    {
     "data": {
      "text/plain": [
       "102663   2004-01-01\n",
       "102664   2004-02-01\n",
       "102665   2004-03-01\n",
       "102666   2004-04-01\n",
       "102667   2004-05-01\n",
       "            ...    \n",
       "175686   2021-03-01\n",
       "175687   2021-05-01\n",
       "175688   2021-06-01\n",
       "175689   2021-07-01\n",
       "176225   2020-07-01\n",
       "Name: Date, Length: 8532, dtype: datetime64[ns]"
      ]
     },
     "execution_count": 80,
     "metadata": {},
     "output_type": "execute_result"
    }
   ],
   "source": [
    "data_model[\"Date\"].apply(lambda x: pd.to_datetime(str(x), format='%Y%m%d %H:%M:%S'))"
   ]
  },
  {
   "cell_type": "code",
   "execution_count": null,
   "id": "4cf9dd01",
   "metadata": {},
   "outputs": [],
   "source": []
  },
  {
   "cell_type": "code",
   "execution_count": 85,
   "id": "b370f28c",
   "metadata": {},
   "outputs": [
    {
     "data": {
      "text/plain": [
       "13           NaN\n",
       "14           NaN\n",
       "15           NaN\n",
       "16           NaN\n",
       "17           NaN\n",
       "           ...  \n",
       "270641    263.77\n",
       "270642    264.68\n",
       "270643    265.60\n",
       "270644    267.41\n",
       "270645    269.33\n",
       "Name: y, Length: 258560, dtype: float64"
      ]
     },
     "execution_count": 85,
     "metadata": {},
     "output_type": "execute_result"
    }
   ],
   "source": [
    "mavg = month.rolling(window=100).mean()\n",
    "mavg"
   ]
  },
  {
   "cell_type": "code",
   "execution_count": 84,
   "id": "90379fa1",
   "metadata": {},
   "outputs": [
    {
     "data": {
      "text/plain": [
       "<matplotlib.legend.Legend at 0x21fda44c100>"
      ]
     },
     "execution_count": 84,
     "metadata": {},
     "output_type": "execute_result"
    },
    {
     "data": {
      "image/png": "[encoded data removed]",
      "text/plain": [
       "<Figure size 576x504 with 1 Axes>"
      ]
     },
     "metadata": {},
     "output_type": "display_data"
    }
   ],
   "source": [
    "%matplotlib inline\n",
    "import matplotlib.pyplot as plt\n",
    "from matplotlib import style\n",
    "\n",
    "# Adjusting the size of matplotlib\n",
    "import matplotlib as mpl\n",
    "mpl.rc('figure', figsize=(8, 7))\n",
    "mpl.__version__\n",
    "\n",
    "# Adjusting the style of matplotlib\n",
    "style.use('ggplot')\n",
    "\n",
    "month.plot(label='mp_price')\n",
    "mavg.plot(label='mavg')\n",
    "plt.legend()"
   ]
  },
  {
   "cell_type": "code",
   "execution_count": 96,
   "id": "5da63f00",
   "metadata": {},
   "outputs": [
    {
     "data": {
      "text/plain": [
       "2020    758\n",
       "2017    746\n",
       "2016    706\n",
       "2018    667\n",
       "2015    611\n",
       "2014    587\n",
       "2019    565\n",
       "2009    496\n",
       "2007    492\n",
       "2008    489\n",
       "2010    483\n",
       "2021    466\n",
       "2011    443\n",
       "2013    394\n",
       "2012    350\n",
       "2006     96\n",
       "2005     94\n",
       "2004     89\n",
       "Name: mp_year, dtype: int64"
      ]
     },
     "execution_count": 96,
     "metadata": {},
     "output_type": "execute_result"
    }
   ],
   "source": [
    "data_model['mp_year'].value_counts(sort=True).head(20)"
   ]
  },
  {
   "cell_type": "code",
   "execution_count": null,
   "id": "151aec8b",
   "metadata": {},
   "outputs": [],
   "source": []
  }
 ],
 "metadata": {
  "kernelspec": {
   "display_name": "Python 3",
   "language": "python",
   "name": "python3"
  },
  "language_info": {
   "codemirror_mode": {
    "name": "ipython",
    "version": 3
   },
   "file_extension": ".py",
   "mimetype": "text/x-python",
   "name": "python",
   "nbconvert_exporter": "python",
   "pygments_lexer": "ipython3",
   "version": "3.8.8"
  }
 },
 "nbformat": 4,
 "nbformat_minor": 5
}
